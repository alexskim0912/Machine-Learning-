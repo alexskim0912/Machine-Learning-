{
 "cells": [
  {
   "cell_type": "markdown",
   "metadata": {
    "colab_type": "text",
    "id": "z6UHmLYVhWAN"
   },
   "source": [
    "# Project 1: Digit Classification with KNN and Naive Bayes"
   ]
  },
  {
   "cell_type": "markdown",
   "metadata": {},
   "source": [
    "w207: Alex Sewon Kim, 26481817\n"
   ]
  },
  {
   "cell_type": "markdown",
   "metadata": {
    "colab_type": "text",
    "id": "03M_JSg3hWAO"
   },
   "source": [
    "In this project, you'll implement your own image recognition system for classifying digits. Read through the code and the instructions carefully and add your own code where indicated. Each problem can be addressed succinctly with the included packages -- please don't add any more. Grading will be based on writing clean, commented code, along with a few short answers.\n",
    "\n",
    "As always, you're welcome to work on the project in groups and discuss ideas on the course wall, but <b> please prepare your own write-up (with your own code). </b>\n",
    "\n",
    "If you're interested, check out these links related to digit recognition:\n",
    "\n",
    "* Yann Lecun's MNIST benchmarks: http://yann.lecun.com/exdb/mnist/\n",
    "* Stanford Streetview research and data: http://ufldl.stanford.edu/housenumbers/\n",
    "\n",
    "Finally, if you'd like to get started with Tensorflow, you can read through this tutorial: https://www.tensorflow.org/tutorials/keras/basic_classification. It uses a dataset called \"fashion_mnist\", which is identical in structure to the original digit mnist, but uses images of clothing rather than images of digits. The number of training examples and number of labels is the same. In fact, you can simply replace the code that loads \"fashion_mnist\" with \"mnist\" and everything should work fine."
   ]
  },
  {
   "cell_type": "code",
   "execution_count": 1,
   "metadata": {
    "colab": {},
    "colab_type": "code",
    "id": "iJ9ayCvyhWAP"
   },
   "outputs": [],
   "source": [
    "# This tells matplotlib not to try opening a new window for each plot.\n",
    "%matplotlib inline\n",
    "\n",
    "# Import a bunch of libraries.\n",
    "import time\n",
    "import numpy as np\n",
    "import matplotlib.pyplot as plt\n",
    "import statsmodels . api as sm\n",
    "import seaborn as sns\n",
    "from matplotlib.ticker import MultipleLocator\n",
    "from sklearn.pipeline import Pipeline\n",
    "from sklearn.datasets import fetch_openml\n",
    "from sklearn.neighbors import KNeighborsClassifier\n",
    "from sklearn.metrics import confusion_matrix\n",
    "from sklearn.linear_model import LinearRegression\n",
    "from sklearn.naive_bayes import BernoulliNB\n",
    "from sklearn.naive_bayes import MultinomialNB\n",
    "from sklearn.naive_bayes import GaussianNB\n",
    "from sklearn.model_selection import GridSearchCV\n",
    "from sklearn.metrics import classification_report\n",
    "\n",
    "# Set the randomizer seed so results are the same each time.\n",
    "np.random.seed(0)"
   ]
  },
  {
   "cell_type": "markdown",
   "metadata": {
    "colab_type": "text",
    "id": "sO1t0ypThWAR"
   },
   "source": [
    "Load the data. Notice that the data gets partitioned into training, development, and test sets. Also, a small subset of the training data called mini_train_data and mini_train_labels gets defined, which you should use in all the experiments below, unless otherwise noted."
   ]
  },
  {
   "cell_type": "code",
   "execution_count": 2,
   "metadata": {
    "colab": {},
    "colab_type": "code",
    "id": "3yK9DacchWAS"
   },
   "outputs": [
    {
     "name": "stdout",
     "output_type": "stream",
     "text": [
      "data shape:  (70000, 784)\n",
      "label shape: (70000,)\n"
     ]
    }
   ],
   "source": [
    "# Load the digit data from https://www.openml.org/d/554 or from default local location '~/scikit_learn_data/...'\n",
    "X, Y = fetch_openml(name='mnist_784', return_X_y=True, cache=False)\n",
    "\n",
    "\n",
    "# Rescale grayscale values to [0,1].\n",
    "X = X / 255.0\n",
    "\n",
    "# Shuffle the input: create a random permutation of the integers between 0 and the number of data points and apply this\n",
    "# permutation to X and Y.\n",
    "# NOTE: Each time you run this cell, you'll re-shuffle the data, resulting in a different ordering.\n",
    "shuffle = np.random.permutation(np.arange(X.shape[0]))\n",
    "X, Y = X[shuffle], Y[shuffle]\n",
    "\n",
    "print('data shape: ', X.shape)\n",
    "print('label shape:', Y.shape)\n",
    "\n",
    "# Set some variables to hold test, dev, and training data.\n",
    "test_data, test_labels = X[61000:], Y[61000:]\n",
    "dev_data, dev_labels = X[60000:61000], Y[60000:61000]\n",
    "train_data, train_labels = X[:60000], Y[:60000]\n",
    "mini_train_data, mini_train_labels = X[:1000], Y[:1000]"
   ]
  },
  {
   "cell_type": "code",
   "execution_count": 3,
   "metadata": {},
   "outputs": [
    {
     "data": {
      "image/png": "[encoded data removed]",
      "text/plain": [
       "<Figure size 432x288 with 1 Axes>"
      ]
     },
     "metadata": {
      "needs_background": "light"
     },
     "output_type": "display_data"
    }
   ],
   "source": [
    "text_x = X[2].reshape(28,28)\n",
    "plt.figure()\n",
    "plt.imshow(text_x, cmap=plt.cm.binary)\n",
    "plt.show()"
   ]
  },
  {
   "cell_type": "markdown",
   "metadata": {
    "colab_type": "text",
    "id": "atc2JpWKhWAV"
   },
   "source": [
    "### Part 1:\n",
    "\n",
    "Show a 10x10 grid that visualizes 10 examples of each digit.\n",
    "\n",
    "Notes:\n",
    "* You can use `plt.rc()` for setting the colormap, for example to black and white.\n",
    "* You can use `plt.subplot()` for creating subplots.\n",
    "* You can use `plt.imshow()` for rendering a matrix.\n",
    "* You can use `np.array.reshape()` for reshaping a 1D feature vector into a 2D matrix (for rendering)."
   ]
  },
  {
   "cell_type": "code",
   "execution_count": 4,
   "metadata": {
    "colab": {},
    "colab_type": "code",
    "id": "436UeH7JhWAW"
   },
   "outputs": [
    {
     "data": {
      "image/png": "[encoded data removed]",
      "text/plain": [
       "<Figure size 432x288 with 10 Axes>"
      ]
     },
     "metadata": {},
     "output_type": "display_data"
    },
    {
     "data": {
      "image/png": "[encoded data removed]",
      "text/plain": [
       "<Figure size 432x288 with 10 Axes>"
      ]
     },
     "metadata": {},
     "output_type": "display_data"
    },
    {
     "data": {
      "image/png": "[encoded data removed]",
      "text/plain": [
       "<Figure size 432x288 with 10 Axes>"
      ]
     },
     "metadata": {},
     "output_type": "display_data"
    },
    {
     "data": {
      "image/png": "[encoded data removed]",
      "text/plain": [
       "<Figure size 432x288 with 10 Axes>"
      ]
     },
     "metadata": {},
     "output_type": "display_data"
    },
    {
     "data": {
      "image/png": "[encoded data removed]",
      "text/plain": [
       "<Figure size 432x288 with 10 Axes>"
      ]
     },
     "metadata": {},
     "output_type": "display_data"
    },
    {
     "data": {
      "image/png": "[encoded data removed]",
      "text/plain": [
       "<Figure size 432x288 with 10 Axes>"
      ]
     },
     "metadata": {},
     "output_type": "display_data"
    },
    {
     "data": {
      "image/png": "[encoded data removed]",
      "text/plain": [
       "<Figure size 432x288 with 10 Axes>"
      ]
     },
     "metadata": {},
     "output_type": "display_data"
    },
    {
     "data": {
      "image/png": "[encoded data removed]",
      "text/plain": [
       "<Figure size 432x288 with 10 Axes>"
      ]
     },
     "metadata": {},
     "output_type": "display_data"
    },
    {
     "data": {
      "image/png": "[encoded data removed]",
      "text/plain": [
       "<Figure size 432x288 with 10 Axes>"
      ]
     },
     "metadata": {},
     "output_type": "display_data"
    },
    {
     "data": {
      "image/png": "[encoded data removed]",
      "text/plain": [
       "<Figure size 432x288 with 10 Axes>"
      ]
     },
     "metadata": {},
     "output_type": "display_data"
    }
   ],
   "source": [
    "def P1(num_examples=10):\n",
    "\n",
    "### STUDENT START ###\n",
    "    plt.figure(figsize=(6,4))\n",
    "    for i in range(num_examples):\n",
    "        indicies = np.where(Y == str(i))[0][0:10]\n",
    "        for j in range(num_examples):\n",
    "            ind = indicies[j]\n",
    "            text_x = X[ind].reshape(28,28)\n",
    "            plt.subplot(10,10,j+1)\n",
    "            plt.xticks([])\n",
    "            plt.yticks([])\n",
    "            plt.grid(False)\n",
    "            plt.imshow(text_x, cmap=plt.cm.binary)\n",
    "        plt.show()\n",
    "                    \n",
    "\n",
    "### STUDENT END ###\n",
    "\n",
    "P1(10)"
   ]
  },
  {
   "cell_type": "markdown",
   "metadata": {
    "colab_type": "text",
    "id": "EMQAHr7QhWAX"
   },
   "source": [
    "### Part 2:\n",
    "\n",
    "Produce k-Nearest-Neighbors model with k = [1,3,5,7,9].  Evaluate and show the performance of each model. For the 1-Nearest Neighbor model, show precision, recall, and F1 for each label. Which is the most difficult digit?\n",
    "\n",
    "Notes:\n",
    "* Train on the mini train set.\n",
    "* Evaluate performance on the dev set.\n",
    "* You can use `KNeighborsClassifier` to produce a k-nearest neighbor model.\n",
    "* You can use `classification_report` to get precision, recall, and F1 results."
   ]
  },
  {
   "cell_type": "code",
   "execution_count": 5,
   "metadata": {
    "colab": {},
    "colab_type": "code",
    "id": "-it5pn8-hWAY"
   },
   "outputs": [
    {
     "name": "stdout",
     "output_type": "stream",
     "text": [
      "When k = 1:\n",
      "              precision    recall  f1-score   support\n",
      "\n",
      "           0       0.95      0.95      0.95       106\n",
      "           1       0.89      0.98      0.93       118\n",
      "           2       0.90      0.79      0.84       106\n",
      "           3       0.93      0.87      0.90        97\n",
      "           4       0.91      0.85      0.88        92\n",
      "           5       0.86      0.88      0.87        88\n",
      "           6       0.92      0.92      0.92       102\n",
      "           7       0.85      0.94      0.89       102\n",
      "           8       0.83      0.77      0.80        94\n",
      "           9       0.80      0.86      0.83        95\n",
      "\n",
      "    accuracy                           0.88      1000\n",
      "   macro avg       0.88      0.88      0.88      1000\n",
      "weighted avg       0.89      0.88      0.88      1000\n",
      "\n",
      "When k = 3:\n",
      "              precision    recall  f1-score   support\n",
      "\n",
      "           0       0.94      0.96      0.95       106\n",
      "           1       0.82      0.98      0.90       118\n",
      "           2       0.90      0.78      0.84       106\n",
      "           3       0.89      0.89      0.89        97\n",
      "           4       0.84      0.88      0.86        92\n",
      "           5       0.94      0.84      0.89        88\n",
      "           6       0.91      0.91      0.91       102\n",
      "           7       0.85      0.94      0.89       102\n",
      "           8       0.85      0.74      0.80        94\n",
      "           9       0.84      0.79      0.82        95\n",
      "\n",
      "    accuracy                           0.88      1000\n",
      "   macro avg       0.88      0.87      0.87      1000\n",
      "weighted avg       0.88      0.88      0.87      1000\n",
      "\n",
      "When k = 5:\n",
      "              precision    recall  f1-score   support\n",
      "\n",
      "           0       0.95      0.95      0.95       106\n",
      "           1       0.81      0.99      0.89       118\n",
      "           2       0.96      0.74      0.83       106\n",
      "           3       0.87      0.91      0.89        97\n",
      "           4       0.89      0.88      0.89        92\n",
      "           5       0.96      0.85      0.90        88\n",
      "           6       0.91      0.91      0.91       102\n",
      "           7       0.80      0.95      0.87       102\n",
      "           8       0.84      0.77      0.80        94\n",
      "           9       0.89      0.84      0.86        95\n",
      "\n",
      "    accuracy                           0.88      1000\n",
      "   macro avg       0.89      0.88      0.88      1000\n",
      "weighted avg       0.89      0.88      0.88      1000\n",
      "\n",
      "When k = 7:\n",
      "              precision    recall  f1-score   support\n",
      "\n",
      "           0       0.96      0.96      0.96       106\n",
      "           1       0.80      0.99      0.89       118\n",
      "           2       0.96      0.72      0.82       106\n",
      "           3       0.86      0.91      0.88        97\n",
      "           4       0.91      0.87      0.89        92\n",
      "           5       0.96      0.84      0.90        88\n",
      "           6       0.93      0.92      0.93       102\n",
      "           7       0.80      0.94      0.86       102\n",
      "           8       0.83      0.76      0.79        94\n",
      "           9       0.83      0.83      0.83        95\n",
      "\n",
      "    accuracy                           0.88      1000\n",
      "   macro avg       0.88      0.87      0.88      1000\n",
      "weighted avg       0.88      0.88      0.88      1000\n",
      "\n",
      "When k = 9:\n",
      "              precision    recall  f1-score   support\n",
      "\n",
      "           0       0.96      0.95      0.96       106\n",
      "           1       0.78      0.99      0.87       118\n",
      "           2       0.97      0.69      0.81       106\n",
      "           3       0.87      0.91      0.89        97\n",
      "           4       0.92      0.87      0.89        92\n",
      "           5       0.96      0.85      0.90        88\n",
      "           6       0.91      0.92      0.92       102\n",
      "           7       0.80      0.94      0.86       102\n",
      "           8       0.82      0.78      0.80        94\n",
      "           9       0.85      0.82      0.83        95\n",
      "\n",
      "    accuracy                           0.88      1000\n",
      "   macro avg       0.88      0.87      0.87      1000\n",
      "weighted avg       0.88      0.88      0.87      1000\n",
      "\n"
     ]
    }
   ],
   "source": [
    "def P2(k_values):\n",
    "\n",
    "### STUDENT START ###\n",
    "    for i in k_values:\n",
    "        neigh = KNeighborsClassifier(n_neighbors = i)\n",
    "        neigh.fit(mini_train_data, mini_train_labels) \n",
    "        predict_dev= neigh.predict(dev_data)\n",
    "        print(\"When k = \" + str(i) + \":\")\n",
    "        print(classification_report(dev_labels,predict_dev))\n",
    "        \n",
    "\n",
    "    \n",
    "### STUDENT END ###\n",
    "\n",
    "k_values = [1, 3, 5, 7, 9]\n",
    "P2(k_values)"
   ]
  },
  {
   "cell_type": "markdown",
   "metadata": {
    "colab_type": "text",
    "id": "tZc9gzn5hWAZ"
   },
   "source": [
    "ANSWER: f1- score of 8 is 0.8, which is lowest among other digits. Therefore, 8 is the most difficult digit to predict "
   ]
  },
  {
   "cell_type": "markdown",
   "metadata": {
    "colab_type": "text",
    "id": "7b6YEAzzhWAa"
   },
   "source": [
    "### Part 3:\n",
    "\n",
    "Produce 1-Nearest Neighbor models using training data of various sizes.  Evaluate and show the performance of each model.  Additionally, show the time needed to measure the performance of each model.\n",
    "\n",
    "Notes:\n",
    "* Train on the train set.\n",
    "* Evaluate on the dev set.\n",
    "* You can use `KNeighborsClassifier` to produce a k-nearest neighbor model.\n",
    "* You can use `time.time()` to measure elapsed time of operations."
   ]
  },
  {
   "cell_type": "code",
   "execution_count": 6,
   "metadata": {
    "colab": {},
    "colab_type": "code",
    "id": "gEpNzDEjhWAa",
    "scrolled": true
   },
   "outputs": [
    {
     "name": "stdout",
     "output_type": "stream",
     "text": [
      "When size = 100:\n",
      "0.702\n",
      "time of operations =0.169450044631958\n",
      "When size = 200:\n",
      "0.791\n",
      "time of operations =0.26906394958496094\n",
      "When size = 400:\n",
      "0.811\n",
      "time of operations =0.5562078952789307\n",
      "When size = 800:\n",
      "0.866\n",
      "time of operations =1.1605820655822754\n",
      "When size = 1600:\n",
      "0.905\n",
      "time of operations =2.4903359413146973\n",
      "When size = 3200:\n",
      "0.927\n",
      "time of operations =4.333739995956421\n",
      "When size = 6400:\n",
      "0.939\n",
      "time of operations =9.678388118743896\n",
      "When size = 12800:\n",
      "0.952\n",
      "time of operations =20.64340305328369\n",
      "When size = 25600:\n",
      "0.963\n",
      "time of operations =46.22232222557068\n"
     ]
    }
   ],
   "source": [
    "def P3(train_sizes, accuracies):\n",
    "\n",
    "### STUDENT START ###\n",
    "    for i in train_sizes:\n",
    "        beg_time = time.time()\n",
    "        neigh = KNeighborsClassifier(n_neighbors = 1)\n",
    "        neigh.fit(train_data[:i], train_labels[:i]) \n",
    "        accuracy_dev= neigh.score(dev_data,dev_labels)\n",
    "        end_time = time.time()\n",
    "        accuracies.append(accuracy_dev)\n",
    "        print(\"When size = \" + str(i) + \":\")\n",
    "        print(accuracy_dev)\n",
    "        print(\"time of operations =\" + str(end_time - beg_time))\n",
    "        \n",
    "\n",
    "### STUDENT END ###\n",
    "\n",
    "train_sizes = [100, 200, 400, 800, 1600, 3200, 6400, 12800, 25600]\n",
    "accuracies = []\n",
    "P3(train_sizes, accuracies)"
   ]
  },
  {
   "cell_type": "code",
   "execution_count": 7,
   "metadata": {},
   "outputs": [
    {
     "name": "stdout",
     "output_type": "stream",
     "text": [
      "[0.702, 0.791, 0.811, 0.866, 0.905, 0.927, 0.939, 0.952, 0.963]\n"
     ]
    }
   ],
   "source": [
    "print(accuracies)"
   ]
  },
  {
   "cell_type": "markdown",
   "metadata": {
    "colab_type": "text",
    "id": "B56lVsKNhWAc"
   },
   "source": [
    "### Part 4:\n",
    "\n",
    "Produce a regression model that predicts accuracy of a 1-Nearest Neighbor model given training set size. Show $R^2$ of the regression model and the accuracies it predicts for training set sizes 60000, 120000, and 1000000.  Show a lineplot of the actual accuracies and predicted accuracies vs. training set size.  What's wrong with using regression here?\n",
    "\n",
    "Apply some transformation that makes the predictions more reasonable.  Show $R^2$ of the improved regression model and the accuracies it predicts for training set sizes 60000, 120000, and 1000000.  Show a lineplot of the actual accuracies and predicted accuracies vs. training set size.\n",
    "\n",
    "Notes:\n",
    "* Train the regression models on all of the (transformed) accuracies estimated in Problem 3.\n",
    "* Evaluate the regression models on all of the (transformed) accuracies estimated in Problem 3.\n",
    "* You can use `LinearRegression` to produce a linear regression model.\n",
    "* Remember that the sklearn `fit()` functions take an input matrix X and output vector Y. So, each input example in X is a vector, even if it contains only a single value."
   ]
  },
  {
   "cell_type": "code",
   "execution_count": 8,
   "metadata": {
    "colab": {},
    "colab_type": "code",
    "id": "4xE_qIJghWAc",
    "scrolled": true
   },
   "outputs": [
    {
     "name": "stdout",
     "output_type": "stream",
     "text": [
      "R_Squared\n",
      "0.4177006634161019\n",
      "prediction for 60k 120k 1000k\n",
      "[1.23617317 1.63742805 7.52249967]\n"
     ]
    },
    {
     "data": {
      "image/png": "[encoded data removed]",
      "text/plain": [
       "<Figure size 432x288 with 1 Axes>"
      ]
     },
     "metadata": {
      "needs_background": "light"
     },
     "output_type": "display_data"
    },
    {
     "data": {
      "image/png": "[encoded data removed]",
      "text/plain": [
       "<Figure size 432x288 with 1 Axes>"
      ]
     },
     "metadata": {
      "needs_background": "light"
     },
     "output_type": "display_data"
    },
    {
     "name": "stdout",
     "output_type": "stream",
     "text": [
      "R_Squared\n",
      "0.8649045423180002\n",
      "prediction for 60k 120k 1000k\n",
      "[0.98300883 0.99103472 0.99886915]\n"
     ]
    },
    {
     "data": {
      "image/png": "[encoded data removed]",
      "text/plain": [
       "<Figure size 432x288 with 1 Axes>"
      ]
     },
     "metadata": {
      "needs_background": "light"
     },
     "output_type": "display_data"
    }
   ],
   "source": [
    "def P4():\n",
    "\n",
    "### STUDENT START ###\n",
    "    #conversion to matrix for train_sizes\n",
    "    array = np.asarray(train_sizes)\n",
    "    matrix_t = np.reshape((array),(-1,1))\n",
    "    LR = LinearRegression()\n",
    "    LR.fit(matrix_t,accuracies)\n",
    "    R_Squared = LR.score(matrix_t,accuracies)\n",
    "    \n",
    "    print(\"R_Squared\")\n",
    "    print(R_Squared)\n",
    "    \n",
    "    #predicted 60k,120k,1000k from trained Linear Regression \n",
    "    Extend_predict = LR.predict(np.array([60000,120000,1000000]).reshape(-1,1))\n",
    "    print(\"prediction for 60k 120k 1000k\")\n",
    "    print(Extend_predict)\n",
    "    \n",
    "    plt.plot(matrix_t,accuracies)\n",
    "    plt.xlabel(\"Training sizes\")\n",
    "    plt.ylabel(\"Accuracies\")\n",
    "    plt.title(\"Accuracies vs Training Sizes\")\n",
    "    plt.show()\n",
    "    \n",
    "    #complete set of accuracies and trainsize\n",
    "    complete_acc = np.append(accuracies,Extend_predict)\n",
    "    complete_size = np.append(train_sizes, np.array([60000,120000,1000000]))\n",
    "    \n",
    "    #plot\n",
    "    plt.plot(complete_size,complete_acc)\n",
    "    plt.xlabel(\"Extended Training Sizes\")\n",
    "    plt.ylabel(\"Extended Accuracies\")\n",
    "    plt.title(\"Accuracies vs Training Sizes\")\n",
    "    plt.show()\n",
    "    \n",
    "    #note that accuracies for extend are above 1, we need to adjust the value. \n",
    "    #Transformation: Inverse Probability Weighting and run linear regression \n",
    "    \n",
    "    accuracies_w= 1/(1-(np.array(accuracies)))\n",
    "    LR = LinearRegression()\n",
    "    LR.fit(matrix_t,accuracies_w)\n",
    "    \n",
    "    #R_Squared for new model\n",
    "    R_Squaredn = LR.score(matrix_t,accuracies_w)\n",
    "    print(\"R_Squared\")\n",
    "    print(R_Squaredn)\n",
    "    \n",
    "    #predicting 60k,120k,1000k value with new model\n",
    "    Extend_predict1 = LR.predict(np.array([60000,120000,1000000]).reshape(-1,1))\n",
    "    complete_accw = np.append(accuracies_w,Extend_predict1)\n",
    "    \n",
    "    \n",
    "    #transform back to original accuracies \n",
    "    ncomplete_accw = 1 + (1/(1-complete_accw))\n",
    "    print(\"prediction for 60k 120k 1000k\")\n",
    "    print(ncomplete_accw[-3:])\n",
    "    #plot\n",
    "    plt.plot(complete_size,ncomplete_accw)\n",
    "    plt.xlabel(\"Extended Training Sizes\")\n",
    "    plt.ylabel(\"Extended Accuracies\")\n",
    "    plt.title(\"Accuracies vs Training Sizes 2\")\n",
    "\n",
    "  \n",
    "\n",
    "    \n",
    "    \n",
    "### STUDENT END ###\n",
    "\n",
    "P4()"
   ]
  },
  {
   "cell_type": "markdown",
   "metadata": {
    "colab_type": "text",
    "id": "HYYYL9cGhWAe"
   },
   "source": [
    "ANSWER: For the original linear regression model, predicted accuracies are over 1 for 60k,120k,1000k sizes. As sample size get larger, prediction over states the accuracy value which Linear regression is not a optimal model for the case. \n",
    "\n",
    "After applying inverse weighting to adjust the values for each accuracies, R squared value went up from 0.41 to 0.86"
   ]
  },
  {
   "cell_type": "markdown",
   "metadata": {
    "colab_type": "text",
    "id": "geAQJjGRhWAe"
   },
   "source": [
    "### Part 5:\n",
    "\n",
    "Produce a 1-Nearest Neighbor model and show the confusion matrix. Which pair of digits does the model confuse most often? Show the images of these most often confused digits.\n",
    "\n",
    "Notes:\n",
    "- Train on the mini train set.\n",
    "- Evaluate performance on the dev set.\n",
    "- You can use `confusion_matrix()` to produce a confusion matrix."
   ]
  },
  {
   "cell_type": "code",
   "execution_count": 9,
   "metadata": {
    "colab": {},
    "colab_type": "code",
    "id": "Bq36xaQohWAf",
    "scrolled": true
   },
   "outputs": [
    {
     "name": "stdout",
     "output_type": "stream",
     "text": [
      "Confusion Matrix :\n",
      "[[101   0   1   0   0   0   1   1   2   0]\n",
      " [  0 116   1   0   0   0   0   0   1   0]\n",
      " [  1   4  84   2   2   0   2   4   6   1]\n",
      " [  0   2   0  84   0   6   0   2   3   0]\n",
      " [  0   0   1   0  78   0   0   2   0  11]\n",
      " [  2   0   0   1   1  77   5   0   2   0]\n",
      " [  1   2   1   0   1   2  94   0   1   0]\n",
      " [  0   1   1   0   0   0   0  96   0   4]\n",
      " [  1   5   4   3   1   3   0   1  72   4]\n",
      " [  0   1   0   0   3   2   0   7   0  82]]\n"
     ]
    },
    {
     "data": {
      "image/png": "[encoded data removed]",
      "text/plain": [
       "<Figure size 720x720 with 11 Axes>"
      ]
     },
     "metadata": {},
     "output_type": "display_data"
    }
   ],
   "source": [
    "def P5():\n",
    "\n",
    "### STUDENT START ###\n",
    "    \n",
    "    #K=1 nearest neighbor model\n",
    "    neigh = KNeighborsClassifier(n_neighbors = 1)\n",
    "    neigh.fit(mini_train_data, mini_train_labels) \n",
    "    predict_dev= neigh.predict(dev_data)\n",
    "    \n",
    "    #confusion matrix\n",
    "    confusion_M = confusion_matrix(dev_labels,predict_dev)\n",
    "    print(\"Confusion Matrix :\")\n",
    "    print(confusion_M)\n",
    "    \n",
    "    #4th row,9th column has highest value (11)\n",
    "    confused_digits = np.intersect1d(np.where(dev_labels==\"4\"), np.where(predict_dev==\"9\"))\n",
    "    \n",
    "    #plot the most confused digits\n",
    "    plt.figure(figsize=(10,10))\n",
    "    for i in range(len(confused_digits)):\n",
    "        text_x = dev_data[confused_digits[i]].reshape(28,28)\n",
    "        plt.subplot(10,11,i+1)\n",
    "        plt.xticks([])\n",
    "        plt.yticks([])\n",
    "        plt.grid(False)\n",
    "        plt.imshow(text_x, cmap=plt.cm.binary)\n",
    "    plt.show()\n",
    "    \n",
    "### STUDENT END ###\n",
    "\n",
    "P5()"
   ]
  },
  {
   "cell_type": "markdown",
   "metadata": {},
   "source": [
    "ANSWER: looking at the confusion matrix, row 4 and 9th column has 11 which is the max of exisiting value excluding the digonal entries. 4 and 9 are most confused from our module, 4 is classified as 9. "
   ]
  },
  {
   "cell_type": "markdown",
   "metadata": {
    "colab_type": "text",
    "id": "tgqMKb-hhWAh"
   },
   "source": [
    "### Part 6:\n",
    "\n",
    "A common image processing technique is to smooth an image by blurring. The idea is that the value of a particular pixel is estimated as the weighted combination of the original value and the values around it. Typically, the blurring is Gaussian, i.e., the weight of a pixel's influence is determined by a Gaussian function over the distance to the relevant pixel.\n",
    "\n",
    "Implement a simplified Gaussian blur by just using the 8 neighboring pixels like this: the smoothed value of a pixel is a weighted combination of the original value and the 8 neighboring values.\n",
    "\n",
    "Apply your blur filter in 3 ways:\n",
    "- Filter the training data but not the dev data\n",
    "- Filter the dev data but not the training data\n",
    "- Filter both training data and dev data\n",
    "\n",
    "Show the accuracy resulting no filter and from each way you apply the filter.\n",
    "\n",
    "Notes:\n",
    "* Train on the (filtered) mini train set.\n",
    "* Evaluate performance on the (filtered) dev set.\n",
    "* There are Guassian blur filters available, for example in `scipy.ndimage.filters`. You are welcome to experiment with those, but you are likely to get the best results with the simplified version described above."
   ]
  },
  {
   "cell_type": "code",
   "execution_count": 10,
   "metadata": {
    "colab": {},
    "colab_type": "code",
    "id": "lSKHmHGshWAi"
   },
   "outputs": [
    {
     "name": "stdout",
     "output_type": "stream",
     "text": [
      "Accuracy for filtered_mini x dev_data 0.907\n",
      "Accuracy for mini x filtered dev_data 0.868\n",
      "Accuracy for filtered_mini x filtered dev_Data 0.905\n",
      "Accuracy for no filters 0.884\n"
     ]
    }
   ],
   "source": [
    "def P6():\n",
    "    ### STUDENT START ###\n",
    "        # blurring function \n",
    "    \n",
    "    def G_blur(data):\n",
    "        \n",
    "        # matrix with mean \n",
    "        kernel = np.array([[1/9,1/9,1/9],\n",
    "                        [1/9,1/9,1/9],\n",
    "                        [1/9,1/9,1/9]])\n",
    "\n",
    "        kernel_y = kernel.shape[0]\n",
    "        kernel_x = kernel.shape[1]\n",
    "    \n",
    "        y = kernel_y//2\n",
    "        x = kernel_x//2\n",
    "        \n",
    "        # creating matrix with filtered images\n",
    "        filtered_images = []\n",
    "        for image in data:\n",
    "             \n",
    "            img_y = image.shape[0]\n",
    "            img_x = image.shape[1]\n",
    "            \n",
    "            filtered = np.zeros(image.shape)\n",
    "            for i in range(y, img_y-y):\n",
    "                for j in range(x, img_x-x):\n",
    "                    \n",
    "                    G_blur = 0\n",
    "                    for m in range(kernel_y):\n",
    "                        for n in range(kernel_x):\n",
    "                            G_blur += kernel[m][n]*image[i-y+m][j-x+n]\n",
    "                            \n",
    "                    filtered[i][j] = G_blur\n",
    "            filtered_images.append(filtered)\n",
    "        return np.asarray(filtered_images)\n",
    "    \n",
    "    \n",
    "    #blur training_set and dev_set\n",
    "    filtered_mini = G_blur(mini_train_data.reshape(mini_train_data.shape[0],28,28))\n",
    "    filtered_dev = G_blur(dev_data.reshape(dev_data.shape[0],28, 28))\n",
    "    \n",
    "    neigh = KNeighborsClassifier(n_neighbors = 1)\n",
    "    \n",
    "    #filtered mini x dev\n",
    "    neigh_filtered_mini = neigh.fit(filtered_mini.reshape(1000, 784), mini_train_labels)\n",
    "    prediction_1 = neigh.predict(dev_data)\n",
    "    print(\"Accuracy for filtered_mini x dev_data\", neigh_filtered_mini.score(dev_data, dev_labels))\n",
    "   \n",
    "    #mini x filtered dev\n",
    "    neigh_mini = neigh.fit(mini_train_data,mini_train_labels)\n",
    "    prediction_2 = neigh.predict(filtered_dev.reshape(1000, 784))\n",
    "    print(\"Accuracy for mini x filtered dev_data\", neigh_mini.score(filtered_dev.reshape(1000, 784), dev_labels))\n",
    "\n",
    "\n",
    "    #Filtered both\n",
    "    neigh.fit(filtered_mini.reshape(1000,784),mini_train_labels)\n",
    "    prediction_3 = neigh.predict(filtered_dev.reshape(1000,784))\n",
    "    print(\"Accuracy for filtered_mini x filtered dev_Data\", neigh_filtered_mini.score(filtered_dev.reshape(1000, 784), dev_labels))\n",
    "    \n",
    "    #No filter\n",
    "    prediction_4 = neigh.fit(mini_train_data, mini_train_labels)\n",
    "    predicted_dev = neigh.predict(dev_data)\n",
    "    print(\"Accuracy for no filters\", neigh.score(dev_data, dev_labels))\n",
    "P6()"
   ]
  },
  {
   "cell_type": "markdown",
   "metadata": {
    "colab_type": "text",
    "id": "LtgepWfAhWAk"
   },
   "source": [
    "### Part 7:\n",
    "\n",
    "Produce two Naive Bayes models and evaluate their performances.  Recall that Naive Bayes estimates P(feature|label), where each label is a categorical, not a real number.\n",
    "\n",
    "For the first model, map pixel values to either 0 or 1, representing white or black - you should pre-process the data or use `BernoulliNB`'s `binarize` parameter.  Use some reasonable threshold to separate white from black.  Use `BernoulliNB` to produce the model.\n",
    "\n",
    "For the second model, map pixel values to either 0, 1, or 2, representing white, gray, or black - you should pre-process the data.  Use some reasonable thresholds to separate white from gray from black.  Use `MultinomialNB` to produce the model. \n",
    "\n",
    "Show the Bernoulli model accuracy and the Multinomial model accuracy.\n",
    "\n",
    "Notes:\n",
    "* Train on the mini train set.\n",
    "* Evaluate performance on the dev set.\n",
    "* `sklearn`'s Naive Bayes methods can handle real numbers, but for this exercise explicitly do the mapping to categoricals. \n",
    "\n",
    "Does the multinomial version improve the results? Why or why not?"
   ]
  },
  {
   "cell_type": "code",
   "execution_count": 11,
   "metadata": {
    "colab": {},
    "colab_type": "code",
    "id": "eGpH-4IQhWAk"
   },
   "outputs": [
    {
     "name": "stdout",
     "output_type": "stream",
     "text": [
      "accuracy for the bernoulli model: 0.819\n",
      "accuracy for the multinomial model: 0.818\n"
     ]
    }
   ],
   "source": [
    "def P7():\n",
    "\n",
    "### STUDENT START ###\n",
    "    \n",
    "    #transforming mini_train_Data to binary\n",
    "    binary_mini_train_data = np.where(mini_train_data<(0.5),1,0)\n",
    "    binary_dev_data = np.where(dev_data<(0.5),1,0)\n",
    "   \n",
    "    #Bernoulli model for accuracy\n",
    "    Bernol = BernoulliNB()\n",
    "    Bernol.fit(binary_mini_train_data, mini_train_labels)\n",
    "    b_accuracies= Bernol.score(binary_dev_data,dev_labels)\n",
    "    print(\"accuracy for the bernoulli model:\", b_accuracies )\n",
    "    \n",
    "    #transforming mini_train_Data and dev to 0,1,2 \n",
    "    new_train_data = np.where(mini_train_data < (1/3),0,mini_train_data)\n",
    "    new_train_data = np.where((1/3)<=new_train_data.any()<(2/3),1, new_train_data)\n",
    "    new_train_data = np.where(new_train_data>=(2/3),2,new_train_data)\n",
    "    \n",
    "    new_dev_data = np.where(dev_data < (1/3),0,dev_data)\n",
    "    new_dev_data = np.where((1/3) <= dev_data.any()<(2/3),1, dev_data)\n",
    "    new_dev_data = np.where(dev_data >=(2/3),2,dev_data)\n",
    "    \n",
    "    #multinomial model for accuracy\n",
    "    multinomial = MultinomialNB()\n",
    "    multinomial.fit(new_train_data,mini_train_labels)\n",
    "    multi_accuracies = multinomial.score(new_dev_data, dev_labels)\n",
    "    print(\"accuracy for the multinomial model:\", multi_accuracies )\n",
    "    \n",
    "\n",
    "    \n",
    "### STUDENT END ###\n",
    "\n",
    "P7()"
   ]
  },
  {
   "cell_type": "markdown",
   "metadata": {
    "colab_type": "text",
    "id": "zNLrgggohWAm"
   },
   "source": [
    "ANSWER: binary model gives 0.01 higher accuracy than the multinomial model. 2/10 to 3/10 not a huge different. However, binary models are more generalized, it gives slightly better accuracy. "
   ]
  },
  {
   "cell_type": "markdown",
   "metadata": {
    "colab_type": "text",
    "id": "PqjbRLg7hWAm"
   },
   "source": [
    "### Part 8:\n",
    "\n",
    "Search across several values for the LaPlace smoothing parameter (alpha) to find its effect on a Bernoulli Naive Bayes model's performance.  Show the accuracy at each alpha value.\n",
    "\n",
    "Notes:\n",
    "* Train on the mini train set.\n",
    "* Vary alpha and evaulate performance using `GridSearchCV` to cross-validate.\n",
    "* Cross-validation is based on partitions of the training data, so results will be a bit different than if you used the dev set to evaluate performance.\n",
    "\n",
    "What is the best value for alpha? What is the accuracy when alpha is near 0? Is this what you'd expect?"
   ]
  },
  {
   "cell_type": "code",
   "execution_count": 12,
   "metadata": {
    "colab": {},
    "colab_type": "code",
    "id": "0AvZ-Wp3hWAn"
   },
   "outputs": [
    {
     "name": "stdout",
     "output_type": "stream",
     "text": [
      "Accuracy for alpha=0.0000000001 =  0.813\n",
      "Accuracy for alpha=0.0001000000 =  0.821\n",
      "Accuracy for alpha=0.0010000000 =  0.825\n",
      "Accuracy for alpha=0.0100000000 =  0.82\n",
      "Accuracy for alpha=0.1000000000 =  0.818\n",
      "Accuracy for alpha=0.5000000000 =  0.816\n",
      "Accuracy for alpha=1.0000000000 =  0.811\n",
      "Accuracy for alpha=2.0000000000 =  0.805\n",
      "Accuracy for alpha=10.0000000000 =  0.781\n",
      "\n",
      "Best alpha =  {'alpha': 0.001}\n"
     ]
    },
    {
     "name": "stderr",
     "output_type": "stream",
     "text": [
      "//anaconda3/lib/python3.7/site-packages/sklearn/model_selection/_search.py:814: DeprecationWarning: The default of the `iid` parameter will change from True to False in version 0.22 and will be removed in 0.24. This will change numeric results when test-set sizes are unequal.\n",
      "  DeprecationWarning)\n"
     ]
    }
   ],
   "source": [
    "def P8(alphas):\n",
    "\n",
    "### STUDENT START ###\n",
    "   \n",
    "    #evaluate performance using GridSearchCV\n",
    "    GSearch = GridSearchCV(estimator = BernoulliNB(), param_grid=alphas, scoring=\"accuracy\", cv=5)\n",
    "    fit = GSearch.fit(mini_train_data, mini_train_labels)\n",
    "    Performance = fit.cv_results_[\"mean_test_score\"]\n",
    "    \n",
    "    for i in range(9):\n",
    "        print(\"Accuracy for alpha=%.10f = \" % alphas['alpha'][i], Performance[i])\n",
    "     \n",
    "    return fit\n",
    "\n",
    "### STUDENT END ###\n",
    "\n",
    "alphas = {'alpha': [1.0e-10, 0.0001, 0.001, 0.01, 0.1, 0.5, 1.0, 2.0, 10.0]}\n",
    "nb = P8(alphas)\n",
    "print()\n",
    "print(\"Best alpha = \", nb.best_params_)"
   ]
  },
  {
   "cell_type": "markdown",
   "metadata": {
    "colab_type": "text",
    "id": "1yEg9keThWAp"
   },
   "source": [
    "ANSWER: best value for alpha is 0.001 when accuracy is 0.825. When alpha is near 0, accuracy is 0.813. Accuracies vary depending on the alpha values, accuracies decreases reaches two tails of the alpha values both high and low. "
   ]
  },
  {
   "cell_type": "markdown",
   "metadata": {
    "colab_type": "text",
    "id": "B07GDiDdhWAq"
   },
   "source": [
    "### Part 9:\n",
    "\n",
    "Produce a model using Guassian Naive Bayes, which is intended for real-valued features, and evaluate performance. You will notice that it does not work so well. Diagnose the problem and apply a simple fix so that the model accuracy is around the same as for a Bernoulli Naive Bayes model. Show the model accuracy before your fix and the model accuracy after your fix.  Explain your solution.\n",
    "\n",
    "Notes:\n",
    "* Train on the mini train set.\n",
    "* Evaluate performance on the dev set.\n",
    "* Consider the effects of theta and sigma.  These are stored in the model's `theta_` and `sigma_` attributes."
   ]
  },
  {
   "cell_type": "code",
   "execution_count": 13,
   "metadata": {
    "colab": {},
    "colab_type": "code",
    "id": "gBLbTMWChWAq"
   },
   "outputs": [
    {
     "name": "stderr",
     "output_type": "stream",
     "text": [
      "//anaconda3/lib/python3.7/site-packages/ipykernel_launcher.py:14: MatplotlibDeprecationWarning: Adding an axes using the same arguments as a previous axes currently reuses the earlier instance.  In a future version, a new instance will always be created and returned.  Meanwhile, this warning can be suppressed, and the future behavior ensured, by passing a unique label to each axes instance.\n",
      "  \n",
      "//anaconda3/lib/python3.7/site-packages/ipykernel_launcher.py:17: MatplotlibDeprecationWarning: Adding an axes using the same arguments as a previous axes currently reuses the earlier instance.  In a future version, a new instance will always be created and returned.  Meanwhile, this warning can be suppressed, and the future behavior ensured, by passing a unique label to each axes instance.\n"
     ]
    },
    {
     "name": "stdout",
     "output_type": "stream",
     "text": [
      "performance of Gaussian NB:\n",
      "0.593\n",
      "performance of Smooth Gaussian NB\n",
      "0.821\n"
     ]
    },
    {
     "data": {
      "image/png": "[encoded data removed]",
      "text/plain": [
       "<Figure size 432x288 with 2 Axes>"
      ]
     },
     "metadata": {
      "needs_background": "light"
     },
     "output_type": "display_data"
    }
   ],
   "source": [
    "def P9():\n",
    "\n",
    "### STUDENT END ###\n",
    "    \n",
    "    #produce a GaussianNB model and evaluate performance\n",
    "    Gauss_Naive = GaussianNB()\n",
    "    G_fit = Gauss_Naive.fit(mini_train_data, mini_train_labels)\n",
    "    print(\"performance of Gaussian NB:\")\n",
    "    print(G_fit.score(dev_data , dev_labels))\n",
    "    \n",
    "    # theta : mean of each feature per class\n",
    "    # sigma : variance of each feature per class\n",
    "    for i in range(10):\n",
    "        plt.subplot(2,2,1)\n",
    "        plt.hist(G_fit.theta_[i])\n",
    "        plt.title('Gaussian NB theta, Mean')\n",
    "        plt.subplot(2,2,2)\n",
    "        plt.hist(G_fit.sigma_[i])\n",
    "        plt.title('Gaussian NB sigma, Variance')\n",
    "    \n",
    "    #based on the distribution of the gaussian nb for mean and variance, smooth on 0 < x < 0.1  \n",
    "    \n",
    "    G_fit_smooth= GaussianNB(var_smoothing=0.06)\n",
    "    G_fit2 = G_fit_smooth.fit(mini_train_data, mini_train_labels)\n",
    "    print(\"performance of Smooth Gaussian NB\")\n",
    "    print(G_fit2.score(dev_data,dev_labels))\n",
    "   \n",
    "\n",
    "### STUDENT END ###\n",
    "\n",
    "P9()"
   ]
  },
  {
   "cell_type": "markdown",
   "metadata": {
    "colab_type": "text",
    "id": "1SyHTEJohWAt"
   },
   "source": [
    "ANSWER: notice from the histogram and distribution of the mean and variance of the original model. Significant number of sigma lies close on 0,  By applying the var_smoothing from sklearn function close to 0, in our case 0.06, which portion of the largest variance of all features that is added to variances for calculation stability, and accuracy of the model imporve from 0.593 to 0.821. "
   ]
  },
  {
   "cell_type": "markdown",
   "metadata": {
    "colab_type": "text",
    "id": "dgZMuc1VhWAt"
   },
   "source": [
    "### Part 10:\n",
    "\n",
    "Because Naive Bayes produces a generative model, you can use it to generate digit images.\n",
    "\n",
    "Produce a Bernoulli Naive Bayes model and then use it to generate a 10x20 grid with 20 example images of each digit. Each pixel output should be either 0 or 1, based on comparing some randomly generated number to the estimated probability of the pixel being either 0 or 1.  Show the grid.\n",
    "\n",
    "Notes:\n",
    "* You can use np.random.rand() to generate random numbers from a uniform distribution.\n",
    "* The estimated probability of each pixel being 0 or 1 is stored in the model's `feature_log_prob_` attribute. You can use `np.exp()` to convert a log probability back to a probability.\n",
    "\n",
    "How do the generated digit images compare to the training digit images?"
   ]
  },
  {
   "cell_type": "code",
   "execution_count": 14,
   "metadata": {
    "colab": {},
    "colab_type": "code",
    "id": "ktii-Mp-hWAu",
    "scrolled": true
   },
   "outputs": [
    {
     "data": {
      "image/png": "[encoded data removed]",
      "text/plain": [
       "<Figure size 1080x1080 with 200 Axes>"
      ]
     },
     "metadata": {
      "needs_background": "light"
     },
     "output_type": "display_data"
    }
   ],
   "source": [
    "def P10(num_examples):\n",
    "### STUDENT START ###\n",
    "\n",
    "    # produce Bernoulli NB model \n",
    "    Bernol_NB = BernoulliNB(binarize=0.5)\n",
    "    Bernol_NB.fit(mini_train_data, mini_train_labels)\n",
    "    num_10 = 10*num_examples\n",
    "\n",
    "    # setting up the matrix of each digits and comparing random generation of the digits to probability \n",
    "    binary = np.ndarray((num_10, 785))\n",
    "    for i in range(num_10):\n",
    "        binary[i,0] = i%10\n",
    "        binary[i,1:] = [np.random.rand()<np.exp(x) for x in Bernol_NB.feature_log_prob_[i%10]]\n",
    "        \n",
    "    # generating subplot of 10x20 grid with 20 examples of digits \n",
    "    fig,axes = plt.subplots(10, num_examples, figsize=(15, 15))\n",
    "    for k in range(10):\n",
    "        examples = binary[binary[:,0] == k]\n",
    "        for j in range(num_examples):\n",
    "            axes[int(k),j].imshow(examples[j,1:].reshape(28, 28),cmap = plt.cm.binary)\n",
    "            \n",
    "    plt.show()\n",
    "\n",
    "### STUDENT END ###\n",
    "\n",
    "P10(20)"
   ]
  },
  {
   "cell_type": "markdown",
   "metadata": {
    "colab_type": "text",
    "id": "SuQd1fTGhWAw"
   },
   "source": [
    "ANSWER:generated digits does have rough-form of training digits. However, each pixes of digets are more dispersed (binary) and hard to recognize in comparison to actual training digits that we have. "
   ]
  },
  {
   "cell_type": "markdown",
   "metadata": {
    "colab_type": "text",
    "id": "ksHMg73uhWAx"
   },
   "source": [
    "### Part 11:\n",
    "\n",
    "Recall that a strongly calibrated classifier is rougly 90% accurate when the posterior probability of the predicted class is 0.9. A weakly calibrated classifier is more accurate when the posterior probability of the predicted class is 90% than when it is 80%. A poorly calibrated classifier has no positive correlation between posterior probability and accuracy.  \n",
    "\n",
    "Produce a Bernoulli Naive Bayes model.  Evaluate performance: partition the dev set into several buckets based on the posterior probabilities of the predicted classes - think of a bin in a histogram- and then estimate the accuracy for each bucket. So, for each prediction, find the bucket to which the maximum posterior probability belongs, and update \"correct\" and \"total\" counters accordingly.  Show the accuracy for each bucket.\n",
    "\n",
    "Notes:\n",
    "* Train on the mini train set.\n",
    "* Evaluate perfromance on the dev set.\n",
    "* Apply a reasonable Laplace smoothing (alpha) value.\n",
    "\n",
    "How would you characterize the calibration for this Bernoulli Naive Bayes model?"
   ]
  },
  {
   "cell_type": "code",
   "execution_count": 15,
   "metadata": {},
   "outputs": [
    {
     "name": "stdout",
     "output_type": "stream",
     "text": [
      "p(pred) is 0.0000000000000 to 0.5000000000000    total =   1    accuracy = 0.000\n",
      "p(pred) is 0.5000000000000 to 0.9000000000000    total =  47    accuracy = 0.085\n",
      "p(pred) is 0.9000000000000 to 0.9990000000000    total = 106    accuracy = 0.047\n",
      "p(pred) is 0.9990000000000 to 0.9999900000000    total =  75    accuracy = 0.133\n",
      "p(pred) is 0.9999900000000 to 0.9999999000000    total =  80    accuracy = 0.087\n",
      "p(pred) is 0.9999999000000 to 0.9999999990000    total =  71    accuracy = 0.070\n",
      "p(pred) is 0.9999999990000 to 0.9999999999900    total =  74    accuracy = 0.095\n",
      "p(pred) is 0.9999999999900 to 0.9999999999999    total =  70    accuracy = 0.186\n",
      "p(pred) is 0.9999999999999 to 1.0000000000000    total = 476    accuracy = 0.032\n"
     ]
    }
   ],
   "source": [
    "def P11(buckets, correct, total):\n",
    "    \n",
    "### STUDENT START ###\n",
    "    \n",
    "    # function to partition buckets based on posterior probability \n",
    "    def bucket_function(buckets, maxpp):\n",
    "        if maxpp <= buckets[0]:\n",
    "            return 0\n",
    "        else: \n",
    "            return bucket_function(buckets[1:], maxpp) + 1\n",
    "        \n",
    "    #Bernolli Naive Base model with alpha =1 \n",
    "    Bernolli_NB = BernoulliNB(binarize=0.5, alpha=1)\n",
    "    Bernolli_NB.fit(mini_train_data, mini_train_labels)\n",
    "    prediction_11 = Bernolli_NB.predict(dev_data)\n",
    "    \n",
    "    \n",
    "    for i,j in enumerate(dev_data):\n",
    "        \n",
    "        pp = Bernolli_NB.predict_proba(j.reshape(1,784))[0]\n",
    "        maxpp = np.max(pp)\n",
    "        \n",
    "        if prediction_11[bucket_function(buckets, maxpp)] == dev_labels[i]:\n",
    "            correct[bucket_function(buckets, maxpp)] += 1\n",
    "            \n",
    "        total[bucket_function(buckets, maxpp)] += 1\n",
    "                \n",
    "### STUDENT END ###\n",
    "\n",
    "buckets = [0.5, 0.9, 0.999, 0.99999, 0.9999999, 0.999999999, 0.99999999999, 0.9999999999999, 1.0]\n",
    "correct = [0 for i in buckets]\n",
    "total = [0 for i in buckets]\n",
    "\n",
    "P11(buckets, correct, total)\n",
    "\n",
    "for i in range(len(buckets)):\n",
    "    accuracy = 0.0\n",
    "    if (total[i] > 0): accuracy = correct[i] / total[i]\n",
    "    print('p(pred) is %.13f to %.13f    total = %3d    accuracy = %.3f' % (0 if i==0 else buckets[i-1], buckets[i], total[i], accuracy))"
   ]
  },
  {
   "cell_type": "markdown",
   "metadata": {
    "colab_type": "text",
    "id": "h-4qQsrrhWA1"
   },
   "source": [
    "ANSWER: Higher the posteriror probability, the higher the accuracy it is. also, based on our result above. It is weakly calibrated for the Bernoulli Naive Bayes model. "
   ]
  }
 ],
 "metadata": {
  "colab": {
   "name": "firstname_lastname_p1.ipynb",
   "private_outputs": true,
   "provenance": [
    {
     "file_id": "https://github.com/MIDS-W207/Master/blob/master/Projects/firstname_lastname_p1.ipynb",
     "timestamp": 1557957807607
    }
   ],
   "version": "0.3.2"
  },
  "kernelspec": {
   "display_name": "Python 3",
   "language": "python",
   "name": "python3"
  },
  "language_info": {
   "codemirror_mode": {
    "name": "ipython",
    "version": 3
   },
   "file_extension": ".py",
   "mimetype": "text/x-python",
   "name": "python",
   "nbconvert_exporter": "python",
   "pygments_lexer": "ipython3",
   "version": "3.7.3"
  },
  "toc": {
   "base_numbering": 1,
   "nav_menu": {},
   "number_sections": false,
   "sideBar": true,
   "skip_h1_title": true,
   "title_cell": "Table of Contents",
   "title_sidebar": "Contents",
   "toc_cell": false,
   "toc_position": {},
   "toc_section_display": true,
   "toc_window_display": false
  }
 },
 "nbformat": 4,
 "nbformat_minor": 1
}
